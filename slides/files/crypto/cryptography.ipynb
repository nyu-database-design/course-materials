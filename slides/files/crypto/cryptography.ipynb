{
 "cells": [
  {
   "cell_type": "markdown",
   "metadata": {},
   "source": [
    "# Some cryptography examples\n",
    "A few simple examples of cryptographic functions in Python, primarily using the [cryptography](https://cryptography.io/) module."
   ]
  },
  {
   "cell_type": "code",
   "execution_count": 64,
   "metadata": {},
   "outputs": [],
   "source": [
    "import cryptography\n",
    "import hashlib\n",
    "\n",
    "from IPython.display import display"
   ]
  },
  {
   "cell_type": "markdown",
   "metadata": {},
   "source": [
    "## Hashes\n",
    "Create a hash - a fixed-length 'digest' - from a variable-length string input.  Hashing the same text will always produce the same hash."
   ]
  },
  {
   "cell_type": "code",
   "execution_count": 35,
   "metadata": {},
   "outputs": [
    {
     "data": {
      "text/plain": [
       "'eab4c3a7b50af92be780ab19ba1e8764a4809c9bc7f3d2d966c0c24c7917b23f'"
      ]
     },
     "execution_count": 35,
     "metadata": {},
     "output_type": "execute_result"
    }
   ],
   "source": [
    "text = 'In spite of all their friends could say, on a winter’s morn, on a stormy day, in a Sieve they went to sea!'\n",
    "text = text.encode('utf-8') # encode the string\n",
    "hash = hashlib.sha256( text ).hexdigest()\n",
    "hash"
   ]
  },
  {
   "cell_type": "markdown",
   "metadata": {},
   "source": [
    "We can add in a **nonce** or a **salt** - additives that change the input such that it produces a different hash than the original input.  Here we hash the same input with `10` different nonces to show the difference."
   ]
  },
  {
   "cell_type": "code",
   "execution_count": 107,
   "metadata": {},
   "outputs": [
    {
     "data": {
      "text/plain": [
       "'331bf59c5f43ff421d728ed9608c5fb10149d40b044b97d4fc09d23dbfea998f'"
      ]
     },
     "metadata": {},
     "output_type": "display_data"
    },
    {
     "data": {
      "text/plain": [
       "'a99f2b8260bc2fa8405a3509ee75f74c79e169ad4bf45111563ac4e89d3a0cfe'"
      ]
     },
     "metadata": {},
     "output_type": "display_data"
    },
    {
     "data": {
      "text/plain": [
       "'6f19c2dabbbf49597278bdd007f9c4f88dd11d02b8cba7f7e882b87689a819a5'"
      ]
     },
     "metadata": {},
     "output_type": "display_data"
    },
    {
     "data": {
      "text/plain": [
       "'4a77691760dcc7706d8d91a6438d752b5d922c7f54dac0acc5e54369c3f46b9e'"
      ]
     },
     "metadata": {},
     "output_type": "display_data"
    },
    {
     "data": {
      "text/plain": [
       "'0931b7d7e8df4fa4c2a3e492dce77ff96cd204166b1bdf705d432a91e6c6d88e'"
      ]
     },
     "metadata": {},
     "output_type": "display_data"
    },
    {
     "data": {
      "text/plain": [
       "'2ada69ce9ff5284066eaca28f075e533d8ac5aae2398a95258c278df9dc30d9c'"
      ]
     },
     "metadata": {},
     "output_type": "display_data"
    },
    {
     "data": {
      "text/plain": [
       "'0c3cd5559f124136421776491ca8bf61a9d56d88bbca1a8bf55e9485e4205cbb'"
      ]
     },
     "metadata": {},
     "output_type": "display_data"
    },
    {
     "data": {
      "text/plain": [
       "'1836bd02f004e9c35adbf7f1a50441e6d2561b8eae8adf0aaf71c741efffa30e'"
      ]
     },
     "metadata": {},
     "output_type": "display_data"
    },
    {
     "data": {
      "text/plain": [
       "'02a87a2d316c16ff42b1c2b3dd63dc0feebbf0e496b4b4c5d25da8c85745d8f5'"
      ]
     },
     "metadata": {},
     "output_type": "display_data"
    },
    {
     "data": {
      "text/plain": [
       "'b0703807d662aecfdd940eac6cbd5245be49698d6d66f276444edad89e2274fe'"
      ]
     },
     "metadata": {},
     "output_type": "display_data"
    }
   ],
   "source": [
    "# loop 10 times\n",
    "for i in range( 10 ):\n",
    "    # use the loop counter as the nonce\n",
    "    nonce = str(i).encode('utf-8')\n",
    "    # hash using the nonce\n",
    "    hash = hashlib.sha256( text + nonce ).hexdigest()\n",
    "    display( hash )"
   ]
  },
  {
   "cell_type": "markdown",
   "metadata": {},
   "source": [
    "There is no way to predict what a hash of any input will be.  Let's try to find a hash that starts with two zeros, by brute force... this might take a while!"
   ]
  },
  {
   "cell_type": "code",
   "execution_count": 46,
   "metadata": {},
   "outputs": [
    {
     "ename": "KeyboardInterrupt",
     "evalue": "",
     "output_type": "error",
     "traceback": [
      "\u001b[0;31m---------------------------------------------------------------------------\u001b[0m",
      "\u001b[0;31mKeyboardInterrupt\u001b[0m                         Traceback (most recent call last)",
      "\u001b[0;32m<ipython-input-46-47038da005b5>\u001b[0m in \u001b[0;36m<module>\u001b[0;34m\u001b[0m\n\u001b[1;32m      5\u001b[0m     \u001b[0mnonce\u001b[0m \u001b[0;34m=\u001b[0m \u001b[0mstr\u001b[0m\u001b[0;34m(\u001b[0m\u001b[0mi\u001b[0m\u001b[0;34m)\u001b[0m\u001b[0;34m.\u001b[0m\u001b[0mencode\u001b[0m\u001b[0;34m(\u001b[0m\u001b[0;34m'utf-8'\u001b[0m\u001b[0;34m)\u001b[0m\u001b[0;34m\u001b[0m\u001b[0;34m\u001b[0m\u001b[0m\n\u001b[1;32m      6\u001b[0m     \u001b[0;31m# hash using the nonce\u001b[0m\u001b[0;34m\u001b[0m\u001b[0;34m\u001b[0m\u001b[0;34m\u001b[0m\u001b[0m\n\u001b[0;32m----> 7\u001b[0;31m     \u001b[0mhash\u001b[0m \u001b[0;34m=\u001b[0m \u001b[0mhashlib\u001b[0m\u001b[0;34m.\u001b[0m\u001b[0msha256\u001b[0m\u001b[0;34m(\u001b[0m \u001b[0mtext\u001b[0m \u001b[0;34m+\u001b[0m \u001b[0mnonce\u001b[0m \u001b[0;34m)\u001b[0m\u001b[0;34m.\u001b[0m\u001b[0mhexdigest\u001b[0m\u001b[0;34m(\u001b[0m\u001b[0;34m)\u001b[0m\u001b[0;34m\u001b[0m\u001b[0;34m\u001b[0m\u001b[0m\n\u001b[0m\u001b[1;32m      8\u001b[0m     \u001b[0;31m# display( hash )\u001b[0m\u001b[0;34m\u001b[0m\u001b[0;34m\u001b[0m\u001b[0;34m\u001b[0m\u001b[0m\n\u001b[1;32m      9\u001b[0m \u001b[0;34m\u001b[0m\u001b[0m\n",
      "\u001b[0;31mKeyboardInterrupt\u001b[0m: "
     ]
    }
   ],
   "source": [
    "# loop indefinitely\n",
    "i = 0\n",
    "while True:\n",
    "    # use the loop counter as the nonce\n",
    "    nonce = str(i).encode('utf-8')\n",
    "    # hash using the nonce\n",
    "    hash = hashlib.sha256( text + nonce ).hexdigest()\n",
    "    # display( hash )\n",
    "    \n",
    "    # check whether the hash starts two zeros\n",
    "    if hash[0] == '00':\n",
    "        display('Found it on the {}th iteration!'.format(i))\n",
    "        display( hash )\n",
    "        break\n",
    "    \n",
    "    # increment the counter\n",
    "    i += 1"
   ]
  },
  {
   "cell_type": "markdown",
   "metadata": {},
   "source": [
    "## Create a private/public key pair\n",
    "For public key cryptography, such as for signing a message to prove its authenticity or for sending an encrypted message to a recipient, we will need a private/public key pair."
   ]
  },
  {
   "cell_type": "code",
   "execution_count": 108,
   "metadata": {},
   "outputs": [],
   "source": [
    "# import the relevant parts of the cryptography module\n",
    "from cryptography.hazmat.primitives.asymmetric import rsa\n",
    "from cryptography.hazmat.primitives import hashes\n",
    "from cryptography.hazmat.primitives.asymmetric import padding"
   ]
  },
  {
   "cell_type": "code",
   "execution_count": 109,
   "metadata": {},
   "outputs": [
    {
     "data": {
      "text/plain": [
       "<cryptography.hazmat.backends.openssl.rsa._RSAPrivateKey at 0x7fb1ca84d610>"
      ]
     },
     "execution_count": 109,
     "metadata": {},
     "output_type": "execute_result"
    }
   ],
   "source": [
    "private_key = rsa.generate_private_key(\n",
    "    public_exponent=65537,\n",
    "    key_size=2048,\n",
    ")\n",
    "private_key"
   ]
  },
  {
   "cell_type": "markdown",
   "metadata": {},
   "source": [
    "Derive a public key from the private key."
   ]
  },
  {
   "cell_type": "code",
   "execution_count": 110,
   "metadata": {},
   "outputs": [
    {
     "data": {
      "text/plain": [
       "<cryptography.hazmat.backends.openssl.rsa._RSAPublicKey at 0x7fb1cad6d220>"
      ]
     },
     "execution_count": 110,
     "metadata": {},
     "output_type": "execute_result"
    }
   ],
   "source": [
    "public_key = private_key.public_key() # derive the public key\n",
    "public_key"
   ]
  },
  {
   "cell_type": "markdown",
   "metadata": {},
   "source": [
    "## Digital signatures\n",
    "Prove authenticity of a message by having the sender asign it with their private key, and the receipient validate the signature using the sender's public key."
   ]
  },
  {
   "cell_type": "markdown",
   "metadata": {},
   "source": [
    "### Create the signature\n",
    "Each signature is unique, even if repeatedly signing the same message with the same private key."
   ]
  },
  {
   "cell_type": "code",
   "execution_count": 123,
   "metadata": {},
   "outputs": [
    {
     "data": {
      "text/plain": [
       "b'I\\x04\\x0e4f\\xd2\\x986\\xa4\\xf8\\xeb\\xa2-6v\\xaaM\\xc2d$\\x05>\\xe6,\\xf1\\xe0\\x18\\x17\\xef\\x9a\\xe2\\xd8D\\xbc\\xdd\\xc8\\x89\\xb2\\xca\\n\\xb1\\xbe\\xe4\\xef\\xf4\\xabP\\xe5K\\xc3\\x862\\xcb?\"i\\x19\\x96\\xfdq\\xea\\xee\\x12\\x96\\xdfk`@\\xdfp\\x18\\xf5\\x18[\\x15\\'\\xa7\\xdb\\x87Q6l\\xbc\\xf8\\x8d}\\x91\\x15m\\x93\\xb7\\xba\\x0f\\x15\\x11&\\x0c\\xc69\\xd7T0)\\xec\\xaea\\xe6;\\xb6\\x93+h\\x0ei\\xdd\\xc7\\xf8TF\\xd6#t]\\x17\\xb8\\xef\\xed\\xc6\\xfd\\x98\\xcc\\xbb.\\x868\\xe1\\x9c\\x1a\\\\\\r\\x9c%\\r$KW\\x8c\\x1d\\x9c\\x9b0\\x1d\\xf7\\xbczN\\xa4\\xc5P\\x04\\xa6\\xfa\\x18i\\x8d\\x97@D&\\x9e\\xce\\xf6Y\\x17Cb\\x0f\\xd1\\x95\\xa2\\xc7\\x14\\xe0\\xc1\\x1cY\\xca\\x1b\\x80\\x1f\\xa7|\\xbb\\x1ds@\\x97\\x12aL\\x9c=;\\x90\\x9f\\xe8H\\xd2\\x87\\x0c\\x95gh\\x89\\xd4\\xd4\\xf9\\xd2\\xd6\\n\\xdf\\xb4)8\\xf1\\xe4\\x9b)\\x142eN\\x8f\\xa6\\x16\\xe9\\x91\\x9c]\\x89G\\xd8\\xf6W\\xfbt\\x80\\x9c.\\xb6X\\xe8\\x93\\xd3.{'"
      ]
     },
     "execution_count": 123,
     "metadata": {},
     "output_type": "execute_result"
    }
   ],
   "source": [
    "# the message for most crypto functions must be a byte array, not a regular string\n",
    "message = b\"In spite of all their friends could say, on a winter's morn, on a stormy day, in a Sieve they went to sea!\"\n",
    "\n",
    "# generate a signature for this message using our private key\n",
    "signature = private_key.sign(\n",
    "    message,\n",
    "    padding.PSS(\n",
    "        mgf=padding.MGF1(hashes.SHA256()),\n",
    "        salt_length=padding.PSS.MAX_LENGTH\n",
    "    ),\n",
    "    hashes.SHA256()\n",
    ")\n",
    "signature"
   ]
  },
  {
   "cell_type": "markdown",
   "metadata": {},
   "source": [
    "### Validate the signature\n",
    "Assuming they have been given the sender's public key, the recipient of this message could use the sender's public key to validate the authenticity of the message."
   ]
  },
  {
   "cell_type": "code",
   "execution_count": 124,
   "metadata": {},
   "outputs": [
    {
     "data": {
      "text/plain": [
       "'The signature is valid.'"
      ]
     },
     "metadata": {},
     "output_type": "display_data"
    }
   ],
   "source": [
    "# If the signature does not match, verify() will raise an InvalidSignature exception.\n",
    "try:\n",
    "    # try to verify the signature\n",
    "    public_key.verify(\n",
    "        signature,\n",
    "        message,\n",
    "        padding.PSS(\n",
    "            mgf=padding.MGF1(hashes.SHA256()),\n",
    "            salt_length=padding.PSS.MAX_LENGTH\n",
    "        ),\n",
    "        hashes.SHA256()\n",
    "    )\n",
    "    display('The signature is valid.')\n",
    "except:\n",
    "    # an exception was thrown\n",
    "    display('Invalid signature.  Be careful!')"
   ]
  },
  {
   "cell_type": "markdown",
   "metadata": {},
   "source": [
    "## Encrypting messages\n",
    "To send private messages that others will not be able to intercept, the sender can use the recipient's public key to encrypt a message in such a way that only the recipient (the holder of the corresponding private key) can decrypt it."
   ]
  },
  {
   "cell_type": "code",
   "execution_count": 125,
   "metadata": {},
   "outputs": [
    {
     "data": {
      "text/plain": [
       "b'\\x87\\x80D\\x05\\x12\\xf4P\\x8a\\xed15\\xa1\\xfb\\x10\\xf6\\xcc\\x9b{\\x98\\x89Q\\x8e\\xd3%B%!\\xe9\\xd2\\xd0\\xc6\\x800\\xffo\\xe0\\xb6\\xa5D\\xbd\\x16\\xc6\\x8a>\\x9b%O_.\\xf3\\xbc\\xe8\\xff\\xa7\\x9aa\\xc1\\xb0\\xc0\\xf1+\\xb6<\\x1c\\xf4c\\xc9b\\x87\\xd5\\x95s!\\xa4\\xde\\xb1E\\xa6\\xfd\\x9dL\\xa6\\xa8\\xaf\\x1f\\x0f\\x1aI\\xf1\\xc4\\xd1 %\\x9bj\\t\\xbb#\\xda\\x0b\\xb9\\xf9\\x97!-\\x1d\\x89dR\\x95H\\xff\\xc4)\\x01\\x10#\\x05\\x83\"\\xc0\\xed\\xd4\\xf7om3Y\\x12\\xed<\\xe1\\x8e\\xecJ\\x9f\\x018a\\x86\\x9e\\xa5\\xcff\\x1b\\xef\\xed\\xeb\\x9b|\\x8a\\x04\\x9dz\\x8c\\xbeg\\xcf\\xf96~@6\\x8d\\xddZ\\x83-\\xae%\\xa2\\x0c\\xc2\\xd7\\xf0\\x82\\xc7\\xc0@,\\xf88a\\xe5V\\x0b?\\x10\\x045\\xad\\xf9\\xbf4\\xb1\\xf9\\x9bk\\x9f\\xc9V\\x18\\xd8\\'1 \\xcc\\x99$\\x8b\\xe2\\x88-\\x8f\\xf5\\xee5\\x89\\x04\\x9c\\xfez\\xf6\\xc28<\\x96-\\xd0\\xca\\xeaq\\xfaRt\\x16z=f\\xb1\\x9f\\xc6_\\x93r\\xa7\\xdf\\x9c\\x1a\\x01Y\\xe6#\\x08a\\xa9'"
      ]
     },
     "execution_count": 125,
     "metadata": {},
     "output_type": "execute_result"
    }
   ],
   "source": [
    "message = b\"In spite of all their friends could say, on a winter's morn, on a stormy day, in a Sieve they went to sea!\"\n",
    "\n",
    "# create the encrypted message, a.k.a. the cyphertext\n",
    "ciphertext = public_key.encrypt(\n",
    "    message,\n",
    "    padding.OAEP(\n",
    "        mgf=padding.MGF1(algorithm=hashes.SHA256()),\n",
    "        algorithm=hashes.SHA256(),\n",
    "        label=None\n",
    "    )\n",
    ")\n",
    "\n",
    "# show the ciphertext\n",
    "ciphertext"
   ]
  },
  {
   "cell_type": "markdown",
   "metadata": {},
   "source": [
    "### Decrypt the message\n",
    "The recipient can now use their own private key to decrypt the message that was encrypted by the sender specifically for them.  Imagine here that the recipient runs this code."
   ]
  },
  {
   "cell_type": "code",
   "execution_count": 127,
   "metadata": {},
   "outputs": [
    {
     "data": {
      "text/plain": [
       "True"
      ]
     },
     "execution_count": 127,
     "metadata": {},
     "output_type": "execute_result"
    }
   ],
   "source": [
    "plaintext = private_key.decrypt(\n",
    "    ciphertext,\n",
    "    padding.OAEP(\n",
    "        mgf=padding.MGF1(algorithm=hashes.SHA256()),\n",
    "        algorithm=hashes.SHA256(),\n",
    "        label=None\n",
    "    )\n",
    ")\n",
    "\n",
    "# for debugging purposes, we can verify that this decrypts the original message\n",
    "plaintext == message"
   ]
  },
  {
   "cell_type": "markdown",
   "metadata": {},
   "source": [
    "Assuming the decryption was successful, we can output the deciphered message:"
   ]
  },
  {
   "cell_type": "code",
   "execution_count": 128,
   "metadata": {},
   "outputs": [
    {
     "data": {
      "text/plain": [
       "b\"In spite of all their friends could say, on a winter's morn, on a stormy day, in a Sieve they went to sea!\""
      ]
     },
     "execution_count": 128,
     "metadata": {},
     "output_type": "execute_result"
    }
   ],
   "source": [
    "plaintext"
   ]
  },
  {
   "cell_type": "code",
   "execution_count": null,
   "metadata": {},
   "outputs": [],
   "source": []
  }
 ],
 "metadata": {
  "kernelspec": {
   "display_name": "Python 3",
   "language": "python",
   "name": "python3"
  },
  "language_info": {
   "codemirror_mode": {
    "name": "ipython",
    "version": 3
   },
   "file_extension": ".py",
   "mimetype": "text/x-python",
   "name": "python",
   "nbconvert_exporter": "python",
   "pygments_lexer": "ipython3",
   "version": "3.8.5"
  }
 },
 "nbformat": 4,
 "nbformat_minor": 4
}
